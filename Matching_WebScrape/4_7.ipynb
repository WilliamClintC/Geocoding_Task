{
 "cells": [
  {
   "cell_type": "code",
   "execution_count": 1,
   "id": "177c810e",
   "metadata": {},
   "outputs": [
    {
     "data": {
      "application/vnd.microsoft.datawrangler.viewer.v0+json": {
       "columns": [
        {
         "name": "index",
         "rawType": "int64",
         "type": "integer"
        },
        {
         "name": "Chain",
         "rawType": "object",
         "type": "unknown"
        }
       ],
       "ref": "f7d739c3-535e-424c-bf26-75ae70f0fec7",
       "rows": [
        [
         "0",
         "chevron"
        ],
        [
         "1",
         "ind_dealer_1"
        ],
        [
         "2",
         "sunoco"
        ],
        [
         "3",
         "citgo"
        ],
        [
         "4",
         "exxon"
        ],
        [
         "5",
         "ind_dealer_1"
        ],
        [
         "6",
         "ind_dealer_1"
        ],
        [
         "7",
         "marathon"
        ],
        [
         "8",
         "bp-"
        ],
        [
         "9",
         "shell_"
        ],
        [
         "10",
         "chevron"
        ],
        [
         "11",
         "ind_dealer_1"
        ],
        [
         "12",
         "chevron"
        ],
        [
         "13",
         "shell_"
        ],
        [
         "14",
         "ind_dealer_1"
        ],
        [
         "15",
         "circle_k__3774"
        ],
        [
         "16",
         "shell_"
        ],
        [
         "17",
         "circle_k__3774"
        ],
        [
         "18",
         "circle_k__3774"
        ],
        [
         "19",
         "circle_k__3774"
        ],
        [
         "20",
         "circle_k__3774"
        ],
        [
         "21",
         "ind_dealer_1"
        ],
        [
         "22",
         "circle_k__3774"
        ],
        [
         "23",
         "shell_"
        ],
        [
         "24",
         "ind_dealer_1"
        ],
        [
         "25",
         "circle_k__3774"
        ],
        [
         "26",
         "ind_dealer_1"
        ],
        [
         "27",
         "ind_dealer_1"
        ],
        [
         "28",
         "circle_k__3774"
        ],
        [
         "29",
         "shell_"
        ],
        [
         "30",
         "circle_k__3774"
        ],
        [
         "31",
         "circle_k__3774"
        ],
        [
         "32",
         "circle_k__3774"
        ],
        [
         "33",
         "circle_k__3774"
        ],
        [
         "34",
         "circle_k__3774"
        ],
        [
         "35",
         "ind_dealer_1"
        ],
        [
         "36",
         "shell_"
        ],
        [
         "37",
         "circle_k__3774"
        ],
        [
         "38",
         "shell_"
        ],
        [
         "39",
         "shell_"
        ],
        [
         "40",
         null
        ],
        [
         "41",
         "bp-"
        ],
        [
         "42",
         "chevron"
        ],
        [
         "43",
         "shell_"
        ],
        [
         "44",
         "exxon"
        ],
        [
         "45",
         "ind_dealer_1"
        ],
        [
         "46",
         "sunoco"
        ],
        [
         "47",
         "66gas"
        ],
        [
         "48",
         "chevron"
        ],
        [
         "49",
         "shell_"
        ]
       ],
       "shape": {
        "columns": 1,
        "rows": 15526
       }
      },
      "text/plain": [
       "0             chevron\n",
       "1        ind_dealer_1\n",
       "2              sunoco\n",
       "3               citgo\n",
       "4               exxon\n",
       "             ...     \n",
       "15521    ind_dealer_1\n",
       "15522         tesoro-\n",
       "15523         tesoro-\n",
       "15524         tesoro-\n",
       "15525         chevron\n",
       "Name: Chain, Length: 15526, dtype: object"
      ]
     },
     "execution_count": 1,
     "metadata": {},
     "output_type": "execute_result"
    }
   ],
   "source": [
    "import pandas as pd\n",
    "df2 = pd.read_csv(r'C:\\Users\\clint\\Desktop\\Geocoding_Task\\Matching_WebScrape\\2.csv')\n",
    "\n",
    "df2[\"Chain\"]"
   ]
  },
  {
   "cell_type": "code",
   "execution_count": 2,
   "id": "d264b6f3",
   "metadata": {},
   "outputs": [
    {
     "name": "stdout",
     "output_type": "stream",
     "text": [
      "Unique values in Chain column:\n",
      "['chevron' 'ind_dealer_1' 'sunoco' 'citgo' 'exxon' 'marathon' 'bp-'\n",
      " 'shell_' 'circle_k__3774' nan '66gas' 'gulf_oil_1' 'texaco-' 'gulf-'\n",
      " 'flying-j-' 'loves-travel-stops-country-stores_416x416'\n",
      " 'oasis2016mariamariamaria2016' 'petro' 'pilot' 'speedwaygas'\n",
      " 'catscale3 + talogo' 'valero' 'mobil_oil__type' 'conoco' 'kumngo-'\n",
      " 'roadranger2019' 'catscale3 + truckomat4444' 'ambest' 'arco-'\n",
      " 'sinclair_oil_.svg' 'one9fuelcenter' 'quiktrip-' '76' 'taexpress' 'husky'\n",
      " 'cardlockfuel' 'petro-pass' 'esso' '7-eleven' 'tesoro-' 'cenex--300_0'\n",
      " 'diamondshamrock' 'shighwayshell2014revrevrevrevrevrev2014' 'mapco'\n",
      " 'new_born_truck_stop959595' 'caseys-general-store-'\n",
      " 'iowa_80_truckstop4444' 'kwikstar' 'sammys_mini_martrevrevkarenkaren2013'\n",
      " 'bluebeacon' 'kh_truck_plaza2016mariamariamaria2016' 'quality_hd-2'\n",
      " 'bosselman' 'smithgrove_travel_center2016mariamariamaria2016' 'liberty'\n",
      " 'irving' 'clark' 'catscale3 + charlies_country_corner' 'holidaystation'\n",
      " 'kwik-trip' 'rothsay_truck_stopcopy' 'super-america-' 'ayerco' 'bigapple'\n",
      " 'joplin_44_truck_center4444' 'oak_grove_704444' 'heartland[15603]'\n",
      " 'circle_sinclair_truck_stop' 'brintles_travel_plaza4444'\n",
      " 'kenly_95_truckstop4444' 'taexpresscoffeecup' 'fatdogsnorthplatte'\n",
      " 'fatdogsogallala' 'screenshot2024-05-16at1.52.41pm' 'haffners'\n",
      " 'racewaygas' 'woodshed_at_big_cabin444444'\n",
      " 'american_truck_center_llc2020' 'circle_c2024'\n",
      " 'columbia_travel_center_rev'\n",
      " 'catscale3 + big_d_travel_center2014johnjohnjohn2014' 'gomart'\n",
      " 'lummi_bay_market' 'petrostar'\n",
      " 'catscale3 + ports_to_plains_2014mariamariamaria2014'\n",
      " 'allstartruckstop2020' 'fat_dogs_ogallala2020' 'fat_dogs'\n",
      " 'seneca_hawk2017mariamariamariamar2017' 'gee_cees_truck_stop2020']\n",
      "\n",
      "Total unique values: 89\n",
      "Total rows: 15526\n",
      "\n",
      "Value counts for Chain column:\n",
      "Chain\n",
      "ind_dealer_1                                 2743\n",
      "shell_                                       1199\n",
      "loves-travel-stops-country-stores_416x416    1069\n",
      "pilot                                        1012\n",
      "exxon                                         691\n",
      "bp-                                           614\n",
      "flying-j-                                     561\n",
      "sunoco                                        541\n",
      "speedwaygas                                   539\n",
      "marathon                                      527\n",
      "chevron                                       494\n",
      "valero                                        492\n",
      "circle_k__3774                                432\n",
      "mobil_oil__type                               374\n",
      "citgo                                         367\n",
      "66gas                                         360\n",
      "cenex--300_0                                  348\n",
      "catscale3 + talogo                            337\n",
      "kwik-trip                                     287\n",
      "conoco                                        273\n",
      "Name: count, dtype: int64\n"
     ]
    }
   ],
   "source": [
    "# Examine unique values in the Chain column\n",
    "print(\"Unique values in Chain column:\")\n",
    "print(df2['Chain'].unique())\n",
    "print(f\"\\nTotal unique values: {df2['Chain'].nunique()}\")\n",
    "print(f\"Total rows: {len(df2)}\")\n",
    "\n",
    "# Look at value counts to see frequency\n",
    "print(\"\\nValue counts for Chain column:\")\n",
    "print(df2['Chain'].value_counts().head(20))"
   ]
  },
  {
   "cell_type": "code",
   "execution_count": 3,
   "id": "15deee9b",
   "metadata": {},
   "outputs": [
    {
     "name": "stdout",
     "output_type": "stream",
     "text": [
      "Before and After Cleaning Comparison:\n",
      "                            Chain                Chain_cleaned\n",
      "47                          66gas                       66 gas\n",
      "521                      7-eleven                     7 eleven\n",
      "452                            76                           76\n",
      "8969         allstartruckstop2020         allstartruckstop2020\n",
      "363                        ambest                       ambest\n",
      "...                           ...                          ...\n",
      "710                       tesoro-                       tesoro\n",
      "61                        texaco-                       texaco\n",
      "203                        valero                       valero\n",
      "5138  woodshed_at_big_cabin444444  woodshed at big cabin444444\n",
      "40                            NaN                          NaN\n",
      "\n",
      "[90 rows x 2 columns]\n",
      "\n",
      "Original unique values: 89\n",
      "Cleaned unique values: 89\n"
     ]
    }
   ],
   "source": [
    "import re\n",
    "\n",
    "def clean_chain_name(chain_name):\n",
    "    \"\"\"\n",
    "    Clean chain names based on specified rules and additional patterns\n",
    "    \"\"\"\n",
    "    if pd.isna(chain_name):\n",
    "        return chain_name\n",
    "    \n",
    "    # Convert to string and strip whitespace\n",
    "    cleaned = str(chain_name).strip()\n",
    "    \n",
    "    # Convert to lowercase for processing\n",
    "    cleaned_lower = cleaned.lower()\n",
    "    \n",
    "    # Apply specific rules mentioned by user\n",
    "    if cleaned_lower.startswith('bp-'):\n",
    "        return 'bp'\n",
    "    elif cleaned_lower.startswith('shell_'):\n",
    "        return 'shell'\n",
    "    elif 'circle_k' in cleaned_lower and '_' in cleaned_lower:\n",
    "        return 'circle_k'\n",
    "    elif cleaned_lower == '66gas':\n",
    "        return '66 gas'\n",
    "    elif 'gulf_oil' in cleaned_lower:\n",
    "        return 'gulf oil'\n",
    "    elif cleaned_lower.startswith('flying-j-') or cleaned_lower == 'flying-j':\n",
    "        return 'flying j'\n",
    "    \n",
    "    # Additional cleaning patterns based on common issues\n",
    "    # Remove trailing underscores and numbers\n",
    "    cleaned = re.sub(r'_+\\d*$', '', cleaned)\n",
    "    \n",
    "    # Remove leading/trailing dashes\n",
    "    cleaned = re.sub(r'^-+|-+$', '', cleaned)\n",
    "    \n",
    "    # Replace underscores with spaces (for general cases)\n",
    "    cleaned = re.sub(r'_+', ' ', cleaned)\n",
    "    \n",
    "    # Replace multiple dashes with single space\n",
    "    cleaned = re.sub(r'-+', ' ', cleaned)\n",
    "    \n",
    "    # Remove extra whitespace\n",
    "    cleaned = re.sub(r'\\s+', ' ', cleaned).strip()\n",
    "    \n",
    "    # Handle specific common gas station chains\n",
    "    if cleaned_lower in ['76', '76_gas', '76gas']:\n",
    "        return '76'\n",
    "    elif cleaned_lower in ['chevron', 'chevron_gas']:\n",
    "        return 'chevron'\n",
    "    elif cleaned_lower in ['exxon', 'exxonmobil', 'exxon_mobil']:\n",
    "        return 'exxon'\n",
    "    elif cleaned_lower in ['mobil', 'mobil_gas']:\n",
    "        return 'mobil'\n",
    "    elif cleaned_lower in ['texaco', 'texaco_gas']:\n",
    "        return 'texaco'\n",
    "    elif cleaned_lower in ['arco', 'arco_gas']:\n",
    "        return 'arco'\n",
    "    elif cleaned_lower in ['valero', 'valero_gas']:\n",
    "        return 'valero'\n",
    "    elif cleaned_lower in ['sunoco', 'sunoco_gas']:\n",
    "        return 'sunoco'\n",
    "    elif cleaned_lower in ['citgo', 'citgo_gas']:\n",
    "        return 'citgo'\n",
    "    elif cleaned_lower in ['marathon', 'marathon_gas']:\n",
    "        return 'marathon'\n",
    "    elif cleaned_lower in ['speedway', 'speedway_gas']:\n",
    "        return 'speedway'\n",
    "    elif cleaned_lower in ['wawa', 'wawa_gas']:\n",
    "        return 'wawa'\n",
    "    elif cleaned_lower in ['sheetz', 'sheetz_gas']:\n",
    "        return 'sheetz'\n",
    "    elif cleaned_lower in ['quicktrip', 'qt', 'quiktrip']:\n",
    "        return 'quicktrip'\n",
    "    elif cleaned_lower in ['casey\\'s', 'caseys', 'casey_s']:\n",
    "        return 'casey\\'s'\n",
    "    elif cleaned_lower in ['holiday', 'holiday_gas']:\n",
    "        return 'holiday'\n",
    "    elif cleaned_lower in ['kum_go', 'kum go', 'kumgo']:\n",
    "        return 'kum & go'\n",
    "    elif cleaned_lower in ['pilot', 'pilot_gas', 'pilot travel center']:\n",
    "        return 'pilot'\n",
    "    elif cleaned_lower in ['loves', 'love\\'s', 'loves_gas']:\n",
    "        return 'love\\'s'\n",
    "    elif cleaned_lower in ['ta', 'ta_gas', 'travelcenters']:\n",
    "        return 'ta TravelCenters Travel Centers'\n",
    "    elif cleaned_lower in ['petro', 'petro_gas']:\n",
    "        return 'petro'\n",
    "    elif cleaned_lower in ['sinclair', 'sinclair_gas']:\n",
    "        return 'sinclair'\n",
    "    elif cleaned_lower in ['conoco', 'conoco_gas', 'conocophillips']:\n",
    "        return 'conoco'\n",
    "    elif cleaned_lower in ['phillips_66', 'phillips66', 'phillips 66']:\n",
    "        return 'phillips 66'\n",
    "    \n",
    "    return cleaned\n",
    "\n",
    "# Apply the cleaning function to create a new cleaned column\n",
    "df2['Chain_cleaned'] = df2['Chain'].apply(clean_chain_name)\n",
    "\n",
    "# Show before and after comparison\n",
    "print(\"Before and After Cleaning Comparison:\")\n",
    "comparison = df2[['Chain', 'Chain_cleaned']].drop_duplicates().sort_values('Chain')\n",
    "print(comparison)\n",
    "\n",
    "print(f\"\\nOriginal unique values: {df2['Chain'].nunique()}\")\n",
    "print(f\"Cleaned unique values: {df2['Chain_cleaned'].nunique()}\")"
   ]
  },
  {
   "cell_type": "code",
   "execution_count": 4,
   "id": "84c7a256",
   "metadata": {},
   "outputs": [
    {
     "name": "stdout",
     "output_type": "stream",
     "text": [
      "Specific transformations requested by user:\n",
      "'bp-' -> 'bp'\n",
      "'shell_' -> 'shell'\n",
      "'circle_k__3774' -> 'circle_k'\n",
      "'66gas' -> '66 gas'\n",
      "'gulf_oil_1' -> 'gulf oil'\n",
      "'flying-j-' -> 'flying j'\n",
      "\n",
      "==================================================\n",
      "Value counts for cleaned Chain column (top 20):\n",
      "Chain_cleaned\n",
      "ind dealer                                   2743\n",
      "shell                                        1199\n",
      "loves travel stops country stores 416x416    1069\n",
      "pilot                                        1012\n",
      "exxon                                         691\n",
      "bp                                            614\n",
      "flying j                                      561\n",
      "sunoco                                        541\n",
      "speedwaygas                                   539\n",
      "marathon                                      527\n",
      "chevron                                       494\n",
      "valero                                        492\n",
      "circle_k                                      432\n",
      "mobil oil type                                374\n",
      "citgo                                         367\n",
      "66 gas                                        360\n",
      "cenex 300                                     348\n",
      "catscale3 + talogo                            337\n",
      "kwik trip                                     287\n",
      "conoco                                        273\n",
      "Name: count, dtype: int64\n",
      "\n",
      "==================================================\n",
      "Rows where Chain was actually modified:\n",
      "                                                   Chain  \\\n",
      "1                                           ind_dealer_1   \n",
      "8                                                    bp-   \n",
      "9                                                 shell_   \n",
      "15                                        circle_k__3774   \n",
      "40                                                   NaN   \n",
      "47                                                 66gas   \n",
      "59                                            gulf_oil_1   \n",
      "61                                               texaco-   \n",
      "62                                                 gulf-   \n",
      "64                                             flying-j-   \n",
      "110            loves-travel-stops-country-stores_416x416   \n",
      "212                                      mobil_oil__type   \n",
      "277                                              kumngo-   \n",
      "368                                                arco-   \n",
      "399                                    sinclair_oil_.svg   \n",
      "451                                            quiktrip-   \n",
      "497                                           petro-pass   \n",
      "521                                             7-eleven   \n",
      "710                                              tesoro-   \n",
      "753                                         cenex--300_0   \n",
      "1284                           new_born_truck_stop959595   \n",
      "1407                               caseys-general-store-   \n",
      "1469                               iowa_80_truckstop4444   \n",
      "1644                sammys_mini_martrevrevkarenkaren2013   \n",
      "1762               kh_truck_plaza2016mariamariamaria2016   \n",
      "2164                                        quality_hd-2   \n",
      "2477     smithgrove_travel_center2016mariamariamaria2016   \n",
      "2914                 catscale3 + charlies_country_corner   \n",
      "3211                                           kwik-trip   \n",
      "3281                              rothsay_truck_stopcopy   \n",
      "3289                                      super-america-   \n",
      "3460                          joplin_44_truck_center4444   \n",
      "3461                                    oak_grove_704444   \n",
      "3710                          circle_sinclair_truck_stop   \n",
      "3834                           brintles_travel_plaza4444   \n",
      "3883                              kenly_95_truckstop4444   \n",
      "4185                     screenshot2024-05-16at1.52.41pm   \n",
      "5138                         woodshed_at_big_cabin444444   \n",
      "5328                       american_truck_center_llc2020   \n",
      "5624                                        circle_c2024   \n",
      "5808                          columbia_travel_center_rev   \n",
      "6142   catscale3 + big_d_travel_center2014johnjohnjoh...   \n",
      "7648                                    lummi_bay_market   \n",
      "8704   catscale3 + ports_to_plains_2014mariamariamari...   \n",
      "11835                              fat_dogs_ogallala2020   \n",
      "11836                                           fat_dogs   \n",
      "12342              seneca_hawk2017mariamariamariamar2017   \n",
      "15229                            gee_cees_truck_stop2020   \n",
      "\n",
      "                                           Chain_cleaned  \n",
      "1                                             ind dealer  \n",
      "8                                                     bp  \n",
      "9                                                  shell  \n",
      "15                                              circle_k  \n",
      "40                                                   NaN  \n",
      "47                                                66 gas  \n",
      "59                                              gulf oil  \n",
      "61                                                texaco  \n",
      "62                                                  gulf  \n",
      "64                                              flying j  \n",
      "110            loves travel stops country stores 416x416  \n",
      "212                                       mobil oil type  \n",
      "277                                               kumngo  \n",
      "368                                                 arco  \n",
      "399                                    sinclair oil .svg  \n",
      "451                                             quiktrip  \n",
      "497                                           petro pass  \n",
      "521                                             7 eleven  \n",
      "710                                               tesoro  \n",
      "753                                            cenex 300  \n",
      "1284                           new born truck stop959595  \n",
      "1407                                caseys general store  \n",
      "1469                               iowa 80 truckstop4444  \n",
      "1644                sammys mini martrevrevkarenkaren2013  \n",
      "1762               kh truck plaza2016mariamariamaria2016  \n",
      "2164                                        quality hd 2  \n",
      "2477     smithgrove travel center2016mariamariamaria2016  \n",
      "2914                 catscale3 + charlies country corner  \n",
      "3211                                           kwik trip  \n",
      "3281                              rothsay truck stopcopy  \n",
      "3289                                       super america  \n",
      "3460                          joplin 44 truck center4444  \n",
      "3461                                           oak grove  \n",
      "3710                          circle sinclair truck stop  \n",
      "3834                           brintles travel plaza4444  \n",
      "3883                              kenly 95 truckstop4444  \n",
      "4185                     screenshot2024 05 16at1.52.41pm  \n",
      "5138                         woodshed at big cabin444444  \n",
      "5328                       american truck center llc2020  \n",
      "5624                                        circle c2024  \n",
      "5808                          columbia travel center rev  \n",
      "6142   catscale3 + big d travel center2014johnjohnjoh...  \n",
      "7648                                    lummi bay market  \n",
      "8704   catscale3 + ports to plains 2014mariamariamari...  \n",
      "11835                              fat dogs ogallala2020  \n",
      "11836                                           fat dogs  \n",
      "12342              seneca hawk2017mariamariamariamar2017  \n",
      "15229                            gee cees truck stop2020  \n"
     ]
    }
   ],
   "source": [
    "# Check specific transformations mentioned by user\n",
    "user_examples = ['bp-', 'shell_', 'circle_k__3774', '66gas', 'gulf_oil_1', 'flying-j-']\n",
    "\n",
    "print(\"Specific transformations requested by user:\")\n",
    "for example in user_examples:\n",
    "    if example in df2['Chain'].values:\n",
    "        cleaned_value = clean_chain_name(example)\n",
    "        print(f\"'{example}' -> '{cleaned_value}'\")\n",
    "    else:\n",
    "        # Test the function anyway\n",
    "        cleaned_value = clean_chain_name(example)\n",
    "        print(f\"'{example}' -> '{cleaned_value}' (test - not found in data)\")\n",
    "\n",
    "print(\"\\n\" + \"=\"*50)\n",
    "print(\"Value counts for cleaned Chain column (top 20):\")\n",
    "print(df2['Chain_cleaned'].value_counts().head(20))\n",
    "\n",
    "print(\"\\n\" + \"=\"*50)\n",
    "print(\"Rows where Chain was actually modified:\")\n",
    "modified_rows = df2[df2['Chain'] != df2['Chain_cleaned']][['Chain', 'Chain_cleaned']].drop_duplicates()\n",
    "print(modified_rows)"
   ]
  },
  {
   "cell_type": "code",
   "execution_count": 5,
   "id": "35f5c2bb",
   "metadata": {},
   "outputs": [
    {
     "name": "stdout",
     "output_type": "stream",
     "text": [
      "Chain column has been cleaned successfully!\n",
      "Final unique chain values: 89\n",
      "\n",
      "Top 15 most common chains after cleaning:\n",
      "Chain\n",
      "ind dealer                                   2743\n",
      "shell                                        1199\n",
      "loves travel stops country stores 416x416    1069\n",
      "pilot                                        1012\n",
      "exxon                                         691\n",
      "bp                                            614\n",
      "flying j                                      561\n",
      "sunoco                                        541\n",
      "speedwaygas                                   539\n",
      "marathon                                      527\n",
      "chevron                                       494\n",
      "valero                                        492\n",
      "circle_k                                      432\n",
      "mobil oil type                                374\n",
      "citgo                                         367\n",
      "Name: count, dtype: int64\n",
      "\n",
      "Cleaned data saved to: C:\\Users\\clint\\Desktop\\Geocoding_Task\\Matching_WebScrape\\4_7.csv\n"
     ]
    }
   ],
   "source": [
    "# Replace the original Chain column with the cleaned version\n",
    "df2['Chain'] = df2['Chain_cleaned']\n",
    "\n",
    "# Drop the temporary cleaned column\n",
    "df2.drop('Chain_cleaned', axis=1, inplace=True)\n",
    "\n",
    "print(\"Chain column has been cleaned successfully!\")\n",
    "print(f\"Final unique chain values: {df2['Chain'].nunique()}\")\n",
    "\n",
    "# Show the top chains after cleaning\n",
    "print(\"\\nTop 15 most common chains after cleaning:\")\n",
    "print(df2['Chain'].value_counts().head(15))\n",
    "\n",
    "# Save the cleaned data back to CSV\n",
    "output_path = r'C:\\Users\\clint\\Desktop\\Geocoding_Task\\Matching_WebScrape\\4_7.csv'\n",
    "df2.to_csv(output_path, index=False)\n",
    "print(f\"\\nCleaned data saved to: {output_path}\")"
   ]
  }
 ],
 "metadata": {
  "kernelspec": {
   "display_name": "Python 3",
   "language": "python",
   "name": "python3"
  },
  "language_info": {
   "codemirror_mode": {
    "name": "ipython",
    "version": 3
   },
   "file_extension": ".py",
   "mimetype": "text/x-python",
   "name": "python",
   "nbconvert_exporter": "python",
   "pygments_lexer": "ipython3",
   "version": "3.11.9"
  }
 },
 "nbformat": 4,
 "nbformat_minor": 5
}
