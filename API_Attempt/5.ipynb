{
 "cells": [
  {
   "cell_type": "code",
   "execution_count": 1,
   "id": "d3019e80",
   "metadata": {},
   "outputs": [
    {
     "data": {
      "application/vnd.microsoft.datawrangler.viewer.v0+json": {
       "columns": [
        {
         "name": "index",
         "rawType": "int64",
         "type": "integer"
        },
        {
         "name": "Unnamed: 0",
         "rawType": "int64",
         "type": "integer"
        },
        {
         "name": "filename",
         "rawType": "object",
         "type": "string"
        },
        {
         "name": "record_num",
         "rawType": "int64",
         "type": "integer"
        },
        {
         "name": "clean_line1",
         "rawType": "object",
         "type": "string"
        },
        {
         "name": "clean_line2",
         "rawType": "object",
         "type": "string"
        },
        {
         "name": "line3",
         "rawType": "object",
         "type": "string"
        },
        {
         "name": "city",
         "rawType": "object",
         "type": "string"
        },
        {
         "name": "zip_code",
         "rawType": "int64",
         "type": "integer"
        },
        {
         "name": "label",
         "rawType": "object",
         "type": "string"
        },
        {
         "name": "phone",
         "rawType": "object",
         "type": "string"
        },
        {
         "name": "address",
         "rawType": "object",
         "type": "string"
        },
        {
         "name": "parking",
         "rawType": "object",
         "type": "unknown"
        },
        {
         "name": "gray_parking",
         "rawType": "object",
         "type": "unknown"
        },
        {
         "name": "identifier",
         "rawType": "object",
         "type": "string"
        },
        {
         "name": "year",
         "rawType": "int64",
         "type": "integer"
        },
        {
         "name": "panel",
         "rawType": "int64",
         "type": "integer"
        },
        {
         "name": "major_city",
         "rawType": "object",
         "type": "string"
        },
        {
         "name": "state",
         "rawType": "object",
         "type": "string"
        },
        {
         "name": "chain",
         "rawType": "object",
         "type": "string"
        },
        {
         "name": "p_identifier",
         "rawType": "float64",
         "type": "float"
        },
        {
         "name": "identifier2",
         "rawType": "object",
         "type": "string"
        },
        {
         "name": "identifier3",
         "rawType": "object",
         "type": "string"
        },
        {
         "name": "address_for_geocoding",
         "rawType": "object",
         "type": "string"
        },
        {
         "name": "latitude",
         "rawType": "float64",
         "type": "float"
        },
        {
         "name": "longitude",
         "rawType": "float64",
         "type": "float"
        },
        {
         "name": "precision_level",
         "rawType": "object",
         "type": "string"
        },
        {
         "name": "match_type",
         "rawType": "object",
         "type": "string"
        },
        {
         "name": "google_formatted_address",
         "rawType": "object",
         "type": "string"
        },
        {
         "name": "place_id",
         "rawType": "object",
         "type": "string"
        },
        {
         "name": "google_maps_link",
         "rawType": "object",
         "type": "string"
        },
        {
         "name": "geocoding_status",
         "rawType": "object",
         "type": "string"
        }
       ],
       "ref": "b55bf3c6-2fe9-4603-a5b2-73c20ee814ef",
       "rows": [
        [
         "0",
         "23256",
         "TF2016_260_275-1-ocr.csv",
         "24",
         "Salt Lake City ( W ) ( 84104 ) Dunn Oil # 2 7-11 ( Chevron )",
         "801-975-7188 1-215 Exit 21 ( California Ave E )",
         "24 <U+25A1>",
         "Salt Lake City",
         "84104",
         "Dunn Oil # 2 7-11 ( Chevron )",
         "801-975-7188",
         "1-215 Exit 21 ( California Ave E )",
         null,
         null,
         "84104_801-975-7188",
         "2016",
         "1",
         "Salt Lake City",
         "UT",
         "Chevron",
         null,
         "84104_801-975-7188",
         "84104_801-975-7188_Chevron",
         "Chevron, Dunn Oil # 2 7-11 ( Chevron ), 1-215 Exit 21 ( California Ave E ), Salt Lake City, UT, 84104",
         "40.740269",
         "-112.0054646",
         "RANGE_INTERPOLATED",
         "PARTIAL",
         "21 California Ave 1 215, Salt Lake City, UT 84104, USA",
         "EjYyMSBDYWxpZm9ybmlhIEF2ZSAxIDIxNSwgU2FsdCBMYWtlIENpdHksIFVUIDg0MTA0LCBVU0EiOxo5CjASLgoUChIJt2TcrfzyUocR9ZLF-ZJCvxcQFSoUChIJh2ZIUGnzUocRmP8Ylgrjtf4SBTEgMjE1",
         "https://www.google.com/maps/place/?q=place_id:EjYyMSBDYWxpZm9ybmlhIEF2ZSAxIDIxNSwgU2FsdCBMYWtlIENpdHksIFVUIDg0MTA0LCBVU0EiOxo5CjASLgoUChIJt2TcrfzyUocR9ZLF-ZJCvxcQFSoUChIJh2ZIUGnzUocRmP8Ylgrjtf4SBTEgMjE1",
         "SUCCESS"
        ],
        [
         "1",
         "23454",
         "TF2016_260_275-0-ocr.csv",
         "16",
         "Enterprise ( 84725 ) Cottonwood Sinclair",
         "435-878-2603 UT 18 & Main St",
         "<U+2610> <U+2610>",
         "Enterprise",
         "84725",
         "Cottonwood Sinclair",
         "435-878-2603",
         "UT 18 & Main St",
         null,
         null,
         "84725_435-878-2603",
         "2016",
         "1",
         "Enterprise",
         "UT",
         "Sinclair",
         null,
         "84725_435-878-2603",
         "84725_435-878-2603_Sinclair",
         "Sinclair, Cottonwood Sinclair, UT 18 & Main St, Enterprise, UT, 84725",
         "37.574134",
         "-113.7042911",
         "ROOFTOP",
         "PARTIAL",
         "855 E Main St, Enterprise, UT 84725, USA",
         "ChIJW8_H8myLtYARmvAj2FZBM0w",
         "https://www.google.com/maps/place/?q=place_id:ChIJW8_H8myLtYARmvAj2FZBM0w",
         "SUCCESS"
        ],
        [
         "2",
         "23400",
         "TF2016_260_275-1-ocr.csv",
         "4",
         "Nephi ( 84648 ) Sunmart # 903 ( Texaco )",
         "3 435-623-2644 1-15 Exit 222 ( UT 28 SE )",
         "24 S 0",
         "Nephi",
         "84648",
         "Sunmart # 903 ( Texaco )",
         "435-623-2644",
         "1-15 Exit 222 ( UT 28 SE )",
         "S",
         "S",
         "84648_435-623-2644",
         "2016",
         "1",
         "Nephi",
         "UT",
         "Texaco",
         null,
         "84648_435-623-2644",
         "84648_435-623-2644_Texaco",
         "Texaco, Sunmart # 903 ( Texaco ), 1-15 Exit 222 ( UT 28 SE ), Nephi, UT, 84648",
         "39.685638",
         "-111.836426",
         "GEOMETRIC_CENTER",
         "PARTIAL",
         "Nephi Exit 222 UT, Nephi, UT 84648, USA",
         "ChIJ9zpbcclXTIcRsQTZjt8ke1Q",
         "https://www.google.com/maps/place/?q=place_id:ChIJ9zpbcclXTIcRsQTZjt8ke1Q",
         "SUCCESS"
        ]
       ],
       "shape": {
        "columns": 31,
        "rows": 3
       }
      },
      "text/html": [
       "<div>\n",
       "<style scoped>\n",
       "    .dataframe tbody tr th:only-of-type {\n",
       "        vertical-align: middle;\n",
       "    }\n",
       "\n",
       "    .dataframe tbody tr th {\n",
       "        vertical-align: top;\n",
       "    }\n",
       "\n",
       "    .dataframe thead th {\n",
       "        text-align: right;\n",
       "    }\n",
       "</style>\n",
       "<table border=\"1\" class=\"dataframe\">\n",
       "  <thead>\n",
       "    <tr style=\"text-align: right;\">\n",
       "      <th></th>\n",
       "      <th>Unnamed: 0</th>\n",
       "      <th>filename</th>\n",
       "      <th>record_num</th>\n",
       "      <th>clean_line1</th>\n",
       "      <th>clean_line2</th>\n",
       "      <th>line3</th>\n",
       "      <th>city</th>\n",
       "      <th>zip_code</th>\n",
       "      <th>label</th>\n",
       "      <th>phone</th>\n",
       "      <th>...</th>\n",
       "      <th>identifier3</th>\n",
       "      <th>address_for_geocoding</th>\n",
       "      <th>latitude</th>\n",
       "      <th>longitude</th>\n",
       "      <th>precision_level</th>\n",
       "      <th>match_type</th>\n",
       "      <th>google_formatted_address</th>\n",
       "      <th>place_id</th>\n",
       "      <th>google_maps_link</th>\n",
       "      <th>geocoding_status</th>\n",
       "    </tr>\n",
       "  </thead>\n",
       "  <tbody>\n",
       "    <tr>\n",
       "      <th>0</th>\n",
       "      <td>23256</td>\n",
       "      <td>TF2016_260_275-1-ocr.csv</td>\n",
       "      <td>24</td>\n",
       "      <td>Salt Lake City ( W ) ( 84104 ) Dunn Oil # 2 7-...</td>\n",
       "      <td>801-975-7188 1-215 Exit 21 ( California Ave E )</td>\n",
       "      <td>24 &lt;U+25A1&gt;</td>\n",
       "      <td>Salt Lake City</td>\n",
       "      <td>84104</td>\n",
       "      <td>Dunn Oil # 2 7-11 ( Chevron )</td>\n",
       "      <td>801-975-7188</td>\n",
       "      <td>...</td>\n",
       "      <td>84104_801-975-7188_Chevron</td>\n",
       "      <td>Chevron, Dunn Oil # 2 7-11 ( Chevron ), 1-215 ...</td>\n",
       "      <td>40.740269</td>\n",
       "      <td>-112.005465</td>\n",
       "      <td>RANGE_INTERPOLATED</td>\n",
       "      <td>PARTIAL</td>\n",
       "      <td>21 California Ave 1 215, Salt Lake City, UT 84...</td>\n",
       "      <td>EjYyMSBDYWxpZm9ybmlhIEF2ZSAxIDIxNSwgU2FsdCBMYW...</td>\n",
       "      <td>https://www.google.com/maps/place/?q=place_id:...</td>\n",
       "      <td>SUCCESS</td>\n",
       "    </tr>\n",
       "    <tr>\n",
       "      <th>1</th>\n",
       "      <td>23454</td>\n",
       "      <td>TF2016_260_275-0-ocr.csv</td>\n",
       "      <td>16</td>\n",
       "      <td>Enterprise ( 84725 ) Cottonwood Sinclair</td>\n",
       "      <td>435-878-2603 UT 18 &amp; Main St</td>\n",
       "      <td>&lt;U+2610&gt; &lt;U+2610&gt;</td>\n",
       "      <td>Enterprise</td>\n",
       "      <td>84725</td>\n",
       "      <td>Cottonwood Sinclair</td>\n",
       "      <td>435-878-2603</td>\n",
       "      <td>...</td>\n",
       "      <td>84725_435-878-2603_Sinclair</td>\n",
       "      <td>Sinclair, Cottonwood Sinclair, UT 18 &amp; Main St...</td>\n",
       "      <td>37.574134</td>\n",
       "      <td>-113.704291</td>\n",
       "      <td>ROOFTOP</td>\n",
       "      <td>PARTIAL</td>\n",
       "      <td>855 E Main St, Enterprise, UT 84725, USA</td>\n",
       "      <td>ChIJW8_H8myLtYARmvAj2FZBM0w</td>\n",
       "      <td>https://www.google.com/maps/place/?q=place_id:...</td>\n",
       "      <td>SUCCESS</td>\n",
       "    </tr>\n",
       "    <tr>\n",
       "      <th>2</th>\n",
       "      <td>23400</td>\n",
       "      <td>TF2016_260_275-1-ocr.csv</td>\n",
       "      <td>4</td>\n",
       "      <td>Nephi ( 84648 ) Sunmart # 903 ( Texaco )</td>\n",
       "      <td>3 435-623-2644 1-15 Exit 222 ( UT 28 SE )</td>\n",
       "      <td>24 S 0</td>\n",
       "      <td>Nephi</td>\n",
       "      <td>84648</td>\n",
       "      <td>Sunmart # 903 ( Texaco )</td>\n",
       "      <td>435-623-2644</td>\n",
       "      <td>...</td>\n",
       "      <td>84648_435-623-2644_Texaco</td>\n",
       "      <td>Texaco, Sunmart # 903 ( Texaco ), 1-15 Exit 22...</td>\n",
       "      <td>39.685638</td>\n",
       "      <td>-111.836426</td>\n",
       "      <td>GEOMETRIC_CENTER</td>\n",
       "      <td>PARTIAL</td>\n",
       "      <td>Nephi Exit 222 UT, Nephi, UT 84648, USA</td>\n",
       "      <td>ChIJ9zpbcclXTIcRsQTZjt8ke1Q</td>\n",
       "      <td>https://www.google.com/maps/place/?q=place_id:...</td>\n",
       "      <td>SUCCESS</td>\n",
       "    </tr>\n",
       "  </tbody>\n",
       "</table>\n",
       "<p>3 rows × 31 columns</p>\n",
       "</div>"
      ],
      "text/plain": [
       "   Unnamed: 0                  filename  record_num  \\\n",
       "0       23256  TF2016_260_275-1-ocr.csv          24   \n",
       "1       23454  TF2016_260_275-0-ocr.csv          16   \n",
       "2       23400  TF2016_260_275-1-ocr.csv           4   \n",
       "\n",
       "                                         clean_line1  \\\n",
       "0  Salt Lake City ( W ) ( 84104 ) Dunn Oil # 2 7-...   \n",
       "1           Enterprise ( 84725 ) Cottonwood Sinclair   \n",
       "2           Nephi ( 84648 ) Sunmart # 903 ( Texaco )   \n",
       "\n",
       "                                       clean_line2              line3  \\\n",
       "0  801-975-7188 1-215 Exit 21 ( California Ave E )        24 <U+25A1>   \n",
       "1                     435-878-2603 UT 18 & Main St  <U+2610> <U+2610>   \n",
       "2        3 435-623-2644 1-15 Exit 222 ( UT 28 SE )             24 S 0   \n",
       "\n",
       "             city  zip_code                          label         phone  ...  \\\n",
       "0  Salt Lake City     84104  Dunn Oil # 2 7-11 ( Chevron )  801-975-7188  ...   \n",
       "1      Enterprise     84725            Cottonwood Sinclair  435-878-2603  ...   \n",
       "2           Nephi     84648       Sunmart # 903 ( Texaco )  435-623-2644  ...   \n",
       "\n",
       "                   identifier3  \\\n",
       "0   84104_801-975-7188_Chevron   \n",
       "1  84725_435-878-2603_Sinclair   \n",
       "2    84648_435-623-2644_Texaco   \n",
       "\n",
       "                               address_for_geocoding   latitude   longitude  \\\n",
       "0  Chevron, Dunn Oil # 2 7-11 ( Chevron ), 1-215 ...  40.740269 -112.005465   \n",
       "1  Sinclair, Cottonwood Sinclair, UT 18 & Main St...  37.574134 -113.704291   \n",
       "2  Texaco, Sunmart # 903 ( Texaco ), 1-15 Exit 22...  39.685638 -111.836426   \n",
       "\n",
       "      precision_level  match_type  \\\n",
       "0  RANGE_INTERPOLATED     PARTIAL   \n",
       "1             ROOFTOP     PARTIAL   \n",
       "2    GEOMETRIC_CENTER     PARTIAL   \n",
       "\n",
       "                            google_formatted_address  \\\n",
       "0  21 California Ave 1 215, Salt Lake City, UT 84...   \n",
       "1           855 E Main St, Enterprise, UT 84725, USA   \n",
       "2            Nephi Exit 222 UT, Nephi, UT 84648, USA   \n",
       "\n",
       "                                            place_id  \\\n",
       "0  EjYyMSBDYWxpZm9ybmlhIEF2ZSAxIDIxNSwgU2FsdCBMYW...   \n",
       "1                        ChIJW8_H8myLtYARmvAj2FZBM0w   \n",
       "2                        ChIJ9zpbcclXTIcRsQTZjt8ke1Q   \n",
       "\n",
       "                                    google_maps_link  geocoding_status  \n",
       "0  https://www.google.com/maps/place/?q=place_id:...           SUCCESS  \n",
       "1  https://www.google.com/maps/place/?q=place_id:...           SUCCESS  \n",
       "2  https://www.google.com/maps/place/?q=place_id:...           SUCCESS  \n",
       "\n",
       "[3 rows x 31 columns]"
      ]
     },
     "execution_count": 1,
     "metadata": {},
     "output_type": "execute_result"
    }
   ],
   "source": [
    "import pandas as pd\n",
    "\n",
    "df = pd.read_csv(r'C:\\Users\\clint\\Desktop\\Geocoding_Task\\2.csv')\n",
    "df"
   ]
  },
  {
   "cell_type": "code",
   "execution_count": null,
   "id": "db5dce16",
   "metadata": {},
   "outputs": [
    {
     "data": {
      "application/vnd.plotly.v1+json": {
       "config": {
        "plotlyServerURL": "https://plot.ly"
       },
       "data": [
        {
         "customdata": [
          [
           "https://www.google.com/maps/place/?q=place_id:EjYyMSBDYWxpZm9ybmlhIEF2ZSAxIDIxNSwgU2FsdCBMYWtlIENpdHksIFVUIDg0MTA0LCBVU0EiOxo5CjASLgoUChIJt2TcrfzyUocR9ZLF-ZJCvxcQFSoUChIJh2ZIUGnzUocRmP8Ylgrjtf4SBTEgMjE1",
           "Chevron, Dunn Oil # 2 7-11 ( Chevron ), 1-215 Exit 21 ( California Ave E ), Salt Lake City, UT, 84104",
           "21 California Ave 1 215, Salt Lake City, UT 84104, USA",
           40.740269,
           -112.0054646,
           "RANGE_INTERPOLATED"
          ]
         ],
         "hovertemplate": "<b>Original Address:</b> %{customdata[1]}<br><b>Google Formatted Address:</b> %{customdata[2]}<br><b>Latitude:</b> %{lat:.6f}<br><b>Longitude:</b> %{lon:.6f}<br><b>Precision Level:</b> %{marker.color}<br><b>Click to open in Google Maps</b><extra></extra>",
         "lat": [
          40.740269
         ],
         "legendgroup": "RANGE_INTERPOLATED",
         "lon": [
          -112.0054646
         ],
         "marker": {
          "color": "#636efa",
          "opacity": 0.7,
          "size": 8
         },
         "mode": "markers",
         "name": "RANGE_INTERPOLATED",
         "showlegend": true,
         "subplot": "mapbox",
         "type": "scattermapbox"
        },
        {
         "customdata": [
          [
           "https://www.google.com/maps/place/?q=place_id:ChIJW8_H8myLtYARmvAj2FZBM0w",
           "Sinclair, Cottonwood Sinclair, UT 18 & Main St, Enterprise, UT, 84725",
           "855 E Main St, Enterprise, UT 84725, USA",
           37.574134,
           -113.7042911,
           "ROOFTOP"
          ]
         ],
         "hovertemplate": "<b>Original Address:</b> %{customdata[1]}<br><b>Google Formatted Address:</b> %{customdata[2]}<br><b>Latitude:</b> %{lat:.6f}<br><b>Longitude:</b> %{lon:.6f}<br><b>Precision Level:</b> %{marker.color}<br><b>Click to open in Google Maps</b><extra></extra>",
         "lat": [
          37.574134
         ],
         "legendgroup": "ROOFTOP",
         "lon": [
          -113.7042911
         ],
         "marker": {
          "color": "#EF553B",
          "opacity": 0.7,
          "size": 8
         },
         "mode": "markers",
         "name": "ROOFTOP",
         "showlegend": true,
         "subplot": "mapbox",
         "type": "scattermapbox"
        },
        {
         "customdata": [
          [
           "https://www.google.com/maps/place/?q=place_id:ChIJ9zpbcclXTIcRsQTZjt8ke1Q",
           "Texaco, Sunmart # 903 ( Texaco ), 1-15 Exit 222 ( UT 28 SE ), Nephi, UT, 84648",
           "Nephi Exit 222 UT, Nephi, UT 84648, USA",
           39.685638,
           -111.836426,
           "GEOMETRIC_CENTER"
          ]
         ],
         "hovertemplate": "<b>Original Address:</b> %{customdata[1]}<br><b>Google Formatted Address:</b> %{customdata[2]}<br><b>Latitude:</b> %{lat:.6f}<br><b>Longitude:</b> %{lon:.6f}<br><b>Precision Level:</b> %{marker.color}<br><b>Click to open in Google Maps</b><extra></extra>",
         "lat": [
          39.685638
         ],
         "legendgroup": "GEOMETRIC_CENTER",
         "lon": [
          -111.836426
         ],
         "marker": {
          "color": "#00cc96",
          "opacity": 0.7,
          "size": 8
         },
         "mode": "markers",
         "name": "GEOMETRIC_CENTER",
         "showlegend": true,
         "subplot": "mapbox",
         "type": "scattermapbox"
        }
       ],
       "layout": {
        "annotations": [
         {
          "bgcolor": "rgba(255,255,255,0.8)",
          "bordercolor": "black",
          "borderwidth": 1,
          "showarrow": false,
          "text": "Click any point to open its location in Google Maps",
          "x": 0.02,
          "xanchor": "left",
          "xref": "paper",
          "y": 0.98,
          "yanchor": "top",
          "yref": "paper"
         }
        ],
        "height": 800,
        "hoverlabel": {
         "bgcolor": "white"
        },
        "legend": {
         "title": {
          "text": "precision_level"
         },
         "tracegroupgap": 0
        },
        "mapbox": {
         "center": {
          "lat": 39.8283,
          "lon": -98.5795
         },
         "domain": {
          "x": [
           0,
           1
          ],
          "y": [
           0,
           1
          ]
         },
         "style": "open-street-map",
         "zoom": 4
        },
        "margin": {
         "b": 0,
         "l": 0,
         "r": 0,
         "t": 40
        },
        "template": {
         "data": {
          "bar": [
           {
            "error_x": {
             "color": "#2a3f5f"
            },
            "error_y": {
             "color": "#2a3f5f"
            },
            "marker": {
             "line": {
              "color": "#E5ECF6",
              "width": 0.5
             },
             "pattern": {
              "fillmode": "overlay",
              "size": 10,
              "solidity": 0.2
             }
            },
            "type": "bar"
           }
          ],
          "barpolar": [
           {
            "marker": {
             "line": {
              "color": "#E5ECF6",
              "width": 0.5
             },
             "pattern": {
              "fillmode": "overlay",
              "size": 10,
              "solidity": 0.2
             }
            },
            "type": "barpolar"
           }
          ],
          "carpet": [
           {
            "aaxis": {
             "endlinecolor": "#2a3f5f",
             "gridcolor": "white",
             "linecolor": "white",
             "minorgridcolor": "white",
             "startlinecolor": "#2a3f5f"
            },
            "baxis": {
             "endlinecolor": "#2a3f5f",
             "gridcolor": "white",
             "linecolor": "white",
             "minorgridcolor": "white",
             "startlinecolor": "#2a3f5f"
            },
            "type": "carpet"
           }
          ],
          "choropleth": [
           {
            "colorbar": {
             "outlinewidth": 0,
             "ticks": ""
            },
            "type": "choropleth"
           }
          ],
          "contour": [
           {
            "colorbar": {
             "outlinewidth": 0,
             "ticks": ""
            },
            "colorscale": [
             [
              0,
              "#0d0887"
             ],
             [
              0.1111111111111111,
              "#46039f"
             ],
             [
              0.2222222222222222,
              "#7201a8"
             ],
             [
              0.3333333333333333,
              "#9c179e"
             ],
             [
              0.4444444444444444,
              "#bd3786"
             ],
             [
              0.5555555555555556,
              "#d8576b"
             ],
             [
              0.6666666666666666,
              "#ed7953"
             ],
             [
              0.7777777777777778,
              "#fb9f3a"
             ],
             [
              0.8888888888888888,
              "#fdca26"
             ],
             [
              1,
              "#f0f921"
             ]
            ],
            "type": "contour"
           }
          ],
          "contourcarpet": [
           {
            "colorbar": {
             "outlinewidth": 0,
             "ticks": ""
            },
            "type": "contourcarpet"
           }
          ],
          "heatmap": [
           {
            "colorbar": {
             "outlinewidth": 0,
             "ticks": ""
            },
            "colorscale": [
             [
              0,
              "#0d0887"
             ],
             [
              0.1111111111111111,
              "#46039f"
             ],
             [
              0.2222222222222222,
              "#7201a8"
             ],
             [
              0.3333333333333333,
              "#9c179e"
             ],
             [
              0.4444444444444444,
              "#bd3786"
             ],
             [
              0.5555555555555556,
              "#d8576b"
             ],
             [
              0.6666666666666666,
              "#ed7953"
             ],
             [
              0.7777777777777778,
              "#fb9f3a"
             ],
             [
              0.8888888888888888,
              "#fdca26"
             ],
             [
              1,
              "#f0f921"
             ]
            ],
            "type": "heatmap"
           }
          ],
          "heatmapgl": [
           {
            "colorbar": {
             "outlinewidth": 0,
             "ticks": ""
            },
            "colorscale": [
             [
              0,
              "#0d0887"
             ],
             [
              0.1111111111111111,
              "#46039f"
             ],
             [
              0.2222222222222222,
              "#7201a8"
             ],
             [
              0.3333333333333333,
              "#9c179e"
             ],
             [
              0.4444444444444444,
              "#bd3786"
             ],
             [
              0.5555555555555556,
              "#d8576b"
             ],
             [
              0.6666666666666666,
              "#ed7953"
             ],
             [
              0.7777777777777778,
              "#fb9f3a"
             ],
             [
              0.8888888888888888,
              "#fdca26"
             ],
             [
              1,
              "#f0f921"
             ]
            ],
            "type": "heatmapgl"
           }
          ],
          "histogram": [
           {
            "marker": {
             "pattern": {
              "fillmode": "overlay",
              "size": 10,
              "solidity": 0.2
             }
            },
            "type": "histogram"
           }
          ],
          "histogram2d": [
           {
            "colorbar": {
             "outlinewidth": 0,
             "ticks": ""
            },
            "colorscale": [
             [
              0,
              "#0d0887"
             ],
             [
              0.1111111111111111,
              "#46039f"
             ],
             [
              0.2222222222222222,
              "#7201a8"
             ],
             [
              0.3333333333333333,
              "#9c179e"
             ],
             [
              0.4444444444444444,
              "#bd3786"
             ],
             [
              0.5555555555555556,
              "#d8576b"
             ],
             [
              0.6666666666666666,
              "#ed7953"
             ],
             [
              0.7777777777777778,
              "#fb9f3a"
             ],
             [
              0.8888888888888888,
              "#fdca26"
             ],
             [
              1,
              "#f0f921"
             ]
            ],
            "type": "histogram2d"
           }
          ],
          "histogram2dcontour": [
           {
            "colorbar": {
             "outlinewidth": 0,
             "ticks": ""
            },
            "colorscale": [
             [
              0,
              "#0d0887"
             ],
             [
              0.1111111111111111,
              "#46039f"
             ],
             [
              0.2222222222222222,
              "#7201a8"
             ],
             [
              0.3333333333333333,
              "#9c179e"
             ],
             [
              0.4444444444444444,
              "#bd3786"
             ],
             [
              0.5555555555555556,
              "#d8576b"
             ],
             [
              0.6666666666666666,
              "#ed7953"
             ],
             [
              0.7777777777777778,
              "#fb9f3a"
             ],
             [
              0.8888888888888888,
              "#fdca26"
             ],
             [
              1,
              "#f0f921"
             ]
            ],
            "type": "histogram2dcontour"
           }
          ],
          "mesh3d": [
           {
            "colorbar": {
             "outlinewidth": 0,
             "ticks": ""
            },
            "type": "mesh3d"
           }
          ],
          "parcoords": [
           {
            "line": {
             "colorbar": {
              "outlinewidth": 0,
              "ticks": ""
             }
            },
            "type": "parcoords"
           }
          ],
          "pie": [
           {
            "automargin": true,
            "type": "pie"
           }
          ],
          "scatter": [
           {
            "fillpattern": {
             "fillmode": "overlay",
             "size": 10,
             "solidity": 0.2
            },
            "type": "scatter"
           }
          ],
          "scatter3d": [
           {
            "line": {
             "colorbar": {
              "outlinewidth": 0,
              "ticks": ""
             }
            },
            "marker": {
             "colorbar": {
              "outlinewidth": 0,
              "ticks": ""
             }
            },
            "type": "scatter3d"
           }
          ],
          "scattercarpet": [
           {
            "marker": {
             "colorbar": {
              "outlinewidth": 0,
              "ticks": ""
             }
            },
            "type": "scattercarpet"
           }
          ],
          "scattergeo": [
           {
            "marker": {
             "colorbar": {
              "outlinewidth": 0,
              "ticks": ""
             }
            },
            "type": "scattergeo"
           }
          ],
          "scattergl": [
           {
            "marker": {
             "colorbar": {
              "outlinewidth": 0,
              "ticks": ""
             }
            },
            "type": "scattergl"
           }
          ],
          "scattermapbox": [
           {
            "marker": {
             "colorbar": {
              "outlinewidth": 0,
              "ticks": ""
             }
            },
            "type": "scattermapbox"
           }
          ],
          "scatterpolar": [
           {
            "marker": {
             "colorbar": {
              "outlinewidth": 0,
              "ticks": ""
             }
            },
            "type": "scatterpolar"
           }
          ],
          "scatterpolargl": [
           {
            "marker": {
             "colorbar": {
              "outlinewidth": 0,
              "ticks": ""
             }
            },
            "type": "scatterpolargl"
           }
          ],
          "scatterternary": [
           {
            "marker": {
             "colorbar": {
              "outlinewidth": 0,
              "ticks": ""
             }
            },
            "type": "scatterternary"
           }
          ],
          "surface": [
           {
            "colorbar": {
             "outlinewidth": 0,
             "ticks": ""
            },
            "colorscale": [
             [
              0,
              "#0d0887"
             ],
             [
              0.1111111111111111,
              "#46039f"
             ],
             [
              0.2222222222222222,
              "#7201a8"
             ],
             [
              0.3333333333333333,
              "#9c179e"
             ],
             [
              0.4444444444444444,
              "#bd3786"
             ],
             [
              0.5555555555555556,
              "#d8576b"
             ],
             [
              0.6666666666666666,
              "#ed7953"
             ],
             [
              0.7777777777777778,
              "#fb9f3a"
             ],
             [
              0.8888888888888888,
              "#fdca26"
             ],
             [
              1,
              "#f0f921"
             ]
            ],
            "type": "surface"
           }
          ],
          "table": [
           {
            "cells": {
             "fill": {
              "color": "#EBF0F8"
             },
             "line": {
              "color": "white"
             }
            },
            "header": {
             "fill": {
              "color": "#C8D4E3"
             },
             "line": {
              "color": "white"
             }
            },
            "type": "table"
           }
          ]
         },
         "layout": {
          "annotationdefaults": {
           "arrowcolor": "#2a3f5f",
           "arrowhead": 0,
           "arrowwidth": 1
          },
          "autotypenumbers": "strict",
          "coloraxis": {
           "colorbar": {
            "outlinewidth": 0,
            "ticks": ""
           }
          },
          "colorscale": {
           "diverging": [
            [
             0,
             "#8e0152"
            ],
            [
             0.1,
             "#c51b7d"
            ],
            [
             0.2,
             "#de77ae"
            ],
            [
             0.3,
             "#f1b6da"
            ],
            [
             0.4,
             "#fde0ef"
            ],
            [
             0.5,
             "#f7f7f7"
            ],
            [
             0.6,
             "#e6f5d0"
            ],
            [
             0.7,
             "#b8e186"
            ],
            [
             0.8,
             "#7fbc41"
            ],
            [
             0.9,
             "#4d9221"
            ],
            [
             1,
             "#276419"
            ]
           ],
           "sequential": [
            [
             0,
             "#0d0887"
            ],
            [
             0.1111111111111111,
             "#46039f"
            ],
            [
             0.2222222222222222,
             "#7201a8"
            ],
            [
             0.3333333333333333,
             "#9c179e"
            ],
            [
             0.4444444444444444,
             "#bd3786"
            ],
            [
             0.5555555555555556,
             "#d8576b"
            ],
            [
             0.6666666666666666,
             "#ed7953"
            ],
            [
             0.7777777777777778,
             "#fb9f3a"
            ],
            [
             0.8888888888888888,
             "#fdca26"
            ],
            [
             1,
             "#f0f921"
            ]
           ],
           "sequentialminus": [
            [
             0,
             "#0d0887"
            ],
            [
             0.1111111111111111,
             "#46039f"
            ],
            [
             0.2222222222222222,
             "#7201a8"
            ],
            [
             0.3333333333333333,
             "#9c179e"
            ],
            [
             0.4444444444444444,
             "#bd3786"
            ],
            [
             0.5555555555555556,
             "#d8576b"
            ],
            [
             0.6666666666666666,
             "#ed7953"
            ],
            [
             0.7777777777777778,
             "#fb9f3a"
            ],
            [
             0.8888888888888888,
             "#fdca26"
            ],
            [
             1,
             "#f0f921"
            ]
           ]
          },
          "colorway": [
           "#636efa",
           "#EF553B",
           "#00cc96",
           "#ab63fa",
           "#FFA15A",
           "#19d3f3",
           "#FF6692",
           "#B6E880",
           "#FF97FF",
           "#FECB52"
          ],
          "font": {
           "color": "#2a3f5f"
          },
          "geo": {
           "bgcolor": "white",
           "lakecolor": "white",
           "landcolor": "#E5ECF6",
           "showlakes": true,
           "showland": true,
           "subunitcolor": "white"
          },
          "hoverlabel": {
           "align": "left"
          },
          "hovermode": "closest",
          "mapbox": {
           "style": "light"
          },
          "paper_bgcolor": "white",
          "plot_bgcolor": "#E5ECF6",
          "polar": {
           "angularaxis": {
            "gridcolor": "white",
            "linecolor": "white",
            "ticks": ""
           },
           "bgcolor": "#E5ECF6",
           "radialaxis": {
            "gridcolor": "white",
            "linecolor": "white",
            "ticks": ""
           }
          },
          "scene": {
           "xaxis": {
            "backgroundcolor": "#E5ECF6",
            "gridcolor": "white",
            "gridwidth": 2,
            "linecolor": "white",
            "showbackground": true,
            "ticks": "",
            "zerolinecolor": "white"
           },
           "yaxis": {
            "backgroundcolor": "#E5ECF6",
            "gridcolor": "white",
            "gridwidth": 2,
            "linecolor": "white",
            "showbackground": true,
            "ticks": "",
            "zerolinecolor": "white"
           },
           "zaxis": {
            "backgroundcolor": "#E5ECF6",
            "gridcolor": "white",
            "gridwidth": 2,
            "linecolor": "white",
            "showbackground": true,
            "ticks": "",
            "zerolinecolor": "white"
           }
          },
          "shapedefaults": {
           "line": {
            "color": "#2a3f5f"
           }
          },
          "ternary": {
           "aaxis": {
            "gridcolor": "white",
            "linecolor": "white",
            "ticks": ""
           },
           "baxis": {
            "gridcolor": "white",
            "linecolor": "white",
            "ticks": ""
           },
           "bgcolor": "#E5ECF6",
           "caxis": {
            "gridcolor": "white",
            "linecolor": "white",
            "ticks": ""
           }
          },
          "title": {
           "x": 0.05
          },
          "xaxis": {
           "automargin": true,
           "gridcolor": "white",
           "linecolor": "white",
           "ticks": "",
           "title": {
            "standoff": 15
           },
           "zerolinecolor": "white",
           "zerolinewidth": 2
          },
          "yaxis": {
           "automargin": true,
           "gridcolor": "white",
           "linecolor": "white",
           "ticks": "",
           "title": {
            "standoff": 15
           },
           "zerolinecolor": "white",
           "zerolinewidth": 2
          }
         }
        },
        "title": {
         "text": "2016 Interactive Address Locations Map (Click points to open in Google Maps)"
        }
       }
      }
     },
     "metadata": {},
     "output_type": "display_data"
    },
    {
     "name": "stdout",
     "output_type": "stream",
     "text": [
      "Enhanced interactive map saved as 5.html in the Geocoding_Task folder\n",
      "Features:\n",
      "- Hover over points to see:\n",
      "  * Original address (address_for_geocoding)\n",
      "  * Google formatted address\n",
      "  * Precise coordinates\n",
      "  * Precision level\n",
      "- Click any point to open its location in Google Maps\n",
      "- Use mouse wheel to zoom, drag to pan\n"
     ]
    },
    {
     "ename": "",
     "evalue": "",
     "output_type": "error",
     "traceback": [
      "\u001b[1;31mThe Kernel crashed while executing code in the current cell or a previous cell. \n",
      "\u001b[1;31mPlease review the code in the cell(s) to identify a possible cause of the failure. \n",
      "\u001b[1;31mClick <a href='https://aka.ms/vscodeJupyterKernelCrash'>here</a> for more info. \n",
      "\u001b[1;31mView Jupyter <a href='command:jupyter.viewOutput'>log</a> for further details."
     ]
    }
   ],
   "source": [
    "import plotly.express as px\n",
    "\n",
    "# Create a scatter mapbox plot with enhanced features and Google Maps links\n",
    "fig = px.scatter_mapbox(df, \n",
    "                        lat='latitude', \n",
    "                        lon='longitude',\n",
    "                        color='precision_level',  # Color points by precision level\n",
    "                        hover_data={\n",
    "                            'address_for_geocoding': True,\n",
    "                            'google_formatted_address': True,\n",
    "                            'latitude': ':.6f',\n",
    "                            'longitude': ':.6f',\n",
    "                            'precision_level': True\n",
    "                        },\n",
    "                        custom_data=['google_maps_link', 'address_for_geocoding', 'google_formatted_address'],  # Include for click functionality and hover\n",
    "                        zoom=4,  # Slightly zoomed out for better initial view\n",
    "                        title='2016 Interactive Address Locations Map (Click points to open in Google Maps)',\n",
    "                        height=800)  # Larger map size for better interaction\n",
    "\n",
    "# Update the layout to use OpenStreetMap style with enhanced interactivity\n",
    "fig.update_layout(\n",
    "    mapbox_style='open-street-map',\n",
    "    mapbox=dict(\n",
    "        center=dict(lat=39.8283, lon=-98.5795),  # Center on continental US\n",
    "    ),\n",
    "    margin=dict(l=0, r=0, t=40, b=0),\n",
    "    hoverlabel=dict(bgcolor='white'),  # White background for hover labels\n",
    ")\n",
    "\n",
    "# Update traces to make points clickable with Google Maps links and show proper hover info\n",
    "fig.update_traces(\n",
    "    marker=dict(size=8, opacity=0.7),\n",
    "    hovertemplate=\"<b>Original Address:</b> %{customdata[1]}<br>\" +\n",
    "                  \"<b>Google Formatted Address:</b> %{customdata[2]}<br>\" +\n",
    "                  \"<b>Latitude:</b> %{lat:.6f}<br>\" +\n",
    "                  \"<b>Longitude:</b> %{lon:.6f}<br>\" +\n",
    "                  \"<b>Precision Level:</b> %{marker.color}<br>\" +\n",
    "                  \"<b>Click to open in Google Maps</b><extra></extra>\"\n",
    ")\n",
    "\n",
    "# Add instruction annotation\n",
    "fig.update_layout(\n",
    "    annotations=[\n",
    "        dict(\n",
    "            text=\"Click any point to open its location in Google Maps\",\n",
    "            showarrow=False,\n",
    "            xref=\"paper\", yref=\"paper\",\n",
    "            x=0.02, y=0.98,\n",
    "            xanchor=\"left\", yanchor=\"top\",\n",
    "            bgcolor=\"rgba(255,255,255,0.8)\",\n",
    "            bordercolor=\"black\",\n",
    "            borderwidth=1\n",
    "        )\n",
    "    ]\n",
    ")\n",
    "\n",
    "# Display the interactive map\n",
    "fig.show()\n",
    "\n",
    "# Save the map as an HTML file with click functionality\n",
    "html_content = fig.to_html(include_plotlyjs=True)\n",
    "\n",
    "# Add JavaScript to handle clicks and open Google Maps links\n",
    "javascript_code = \"\"\"\n",
    "<script>\n",
    "// Add click event listener to plotly points\n",
    "document.addEventListener('DOMContentLoaded', function() {\n",
    "    var plotDiv = document.getElementsByClassName('plotly-graph-div')[0];\n",
    "    if (plotDiv) {\n",
    "        plotDiv.on('plotly_click', function(data) {\n",
    "            if (data.points && data.points.length > 0) {\n",
    "                var point = data.points[0];\n",
    "                if (point.customdata && point.customdata[0]) {\n",
    "                    window.open(point.customdata[0], '_blank');\n",
    "                }\n",
    "            }\n",
    "        });\n",
    "    }\n",
    "});\n",
    "</script>\n",
    "\"\"\"\n",
    "\n",
    "# Insert JavaScript before closing body tag\n",
    "html_content = html_content.replace('</body>', javascript_code + '</body>')\n",
    "\n",
    "with open(r'C:\\Users\\clint\\Desktop\\Geocoding_Task\\5.html', 'w', encoding='utf-8') as f:\n",
    "    f.write(html_content)\n",
    "\n",
    "print('Enhanced interactive map saved as 5.html in the Geocoding_Task folder')\n",
    "print('Features:')\n",
    "print('- Hover over points to see:')\n",
    "print('  * Original address (address_for_geocoding)')\n",
    "print('  * Google formatted address')\n",
    "print('  * Precise coordinates')\n",
    "print('  * Precision level')\n",
    "print('- Click any point to open its location in Google Maps')\n",
    "print('- Use mouse wheel to zoom, drag to pan')"
   ]
  },
  {
   "cell_type": "code",
   "execution_count": null,
   "id": "61c7e85f",
   "metadata": {},
   "outputs": [],
   "source": []
  }
 ],
 "metadata": {
  "kernelspec": {
   "display_name": "Python 3",
   "language": "python",
   "name": "python3"
  },
  "language_info": {
   "codemirror_mode": {
    "name": "ipython",
    "version": 3
   },
   "file_extension": ".py",
   "mimetype": "text/x-python",
   "name": "python",
   "nbconvert_exporter": "python",
   "pygments_lexer": "ipython3",
   "version": "3.11.9"
  }
 },
 "nbformat": 4,
 "nbformat_minor": 5
}
